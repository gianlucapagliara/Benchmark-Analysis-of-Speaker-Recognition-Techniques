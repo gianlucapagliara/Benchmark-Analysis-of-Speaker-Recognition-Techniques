{
 "cells": [
  {
   "cell_type": "code",
   "execution_count": 1,
   "source": [
    "from utils.config import *\r\n",
    "from agents.tester import Tester\r\n",
    "from utils.metrics import *\r\n",
    "\r\n",
    "import torchaudio\r\n",
    "torchaudio.set_audio_backend(\"soundfile\")\r\n",
    "\r\n",
    "\r\n",
    "# JSON = 'configs/pre_trained/ResNetSE34L.json'\r\n",
    "# JSON = 'configs/pre_trained/ResNetSE34V2.json'\r\n",
    "# JSON = 'configs/pre_trained/AutoSpeech.json'\r\n",
    "# JSON = 'configs/pre_trained/ResNet18.json'\r\n",
    "# JSON = 'configs/pre_trained/ResNet34.json'\r\n",
    "# JSON = 'configs/pre_trained/Cnn3D.json'\r\n",
    "# JSON = 'configs/pre_trained/SincNet.json'\r\n",
    "# JSON = 'configs/pre_trained/MobileNet.json'\r\n",
    "\r\n",
    "config = process_config(JSON)\r\n",
    "tester = Tester(config)"
   ],
   "outputs": [
    {
     "output_type": "stream",
     "name": "stderr",
     "text": [
      "[INFO]: Experiment: MobileNet Pretrained.\n",
      "[INFO]: Operation will be on ***** GPU-CUDA ***** \n",
      "[INFO]: __Python VERSION:  3.9.5 | packaged by conda-forge | (default, Jun 19 2021, 00:22:33) [MSC v.1916 64 bit (AMD64)]\n",
      "[INFO]: __pyTorch VERSION:  1.9.0\n",
      "[INFO]: __CUDA VERSION\n",
      "[INFO]: __CUDNN VERSION:  7605\n",
      "[INFO]: __Number CUDA Devices:  1\n",
      "[INFO]: __Devices\n",
      "[INFO]: Active CUDA Device: GPU 0\n",
      "[INFO]: Available devices  1\n",
      "[INFO]: Current cuda device  0\n",
      "[INFO]: Loading checkpoint 'experiments\\MobileNet Pretrained\\checkpoints/pretrained_weights/MobileNet_128.pkl'\n",
      "[INFO]: No checkpoint exists from 'experiments\\MobileNet Pretrained\\checkpoints/'. Skipping...\n"
     ]
    }
   ],
   "metadata": {}
  },
  {
   "cell_type": "code",
   "execution_count": 2,
   "source": [
    "model = tester.__model__\r\n",
    "input_size = next(iter(tester.loader))[0].squeeze(0).shape\r\n",
    "input_size"
   ],
   "outputs": [
    {
     "output_type": "execute_result",
     "data": {
      "text/plain": [
       "torch.Size([90881])"
      ]
     },
     "metadata": {},
     "execution_count": 2
    }
   ],
   "metadata": {}
  },
  {
   "cell_type": "code",
   "execution_count": 3,
   "source": [
    "from ptflops import get_model_complexity_info\r\n",
    "\r\n",
    "\r\n",
    "def constructor(input_res):\r\n",
    "    return {'x': torch.randn(*input_res).cuda()}\r\n",
    "\r\n",
    "\r\n",
    "macs, params = get_model_complexity_info(model, (1, *input_size), input_constructor=constructor, as_strings=True, verbose=False, print_per_layer_stat=False)\r\n",
    "print('{:<30}  {:<8}'.format('Computational complexity: ', macs))"
   ],
   "outputs": [
    {
     "output_type": "stream",
     "name": "stderr",
     "text": [
      "C:\\Users\\giang\\anaconda3\\envs\\thesis\\lib\\site-packages\\torch\\nn\\functional.py:652: UserWarning: Named tensors and all their associated APIs are an experimental feature and subject to change. Please do not use them for anything important until they are released as stable. (Triggered internally at  ..\\c10/core/TensorImpl.h:1156.)\n",
      "  return torch.max_pool1d(input, kernel_size, stride, padding, dilation, ceil_mode)\n"
     ]
    },
    {
     "output_type": "stream",
     "name": "stdout",
     "text": [
      "Warning! No positional inputs found for a module, assuming batch size is 1.\n",
      "Computational complexity:       4.25 GMac\n"
     ]
    }
   ],
   "metadata": {}
  },
  {
   "cell_type": "code",
   "execution_count": 3,
   "source": [
    "print('Computing parameters...')\r\n",
    "total_params, trainable_params = compute_parameters(model)\r\n",
    "print('Computing complexity...')\r\n",
    "avg_flops_cost = compute_complexity(model, input_size)\r\n",
    "print('Computing mean inference time...')\r\n",
    "mean_tfp, std_tfp = compute_inference_time(model, input_size)\r\n",
    "print('Computing memory usage...')\r\n",
    "memory = compute_memory_usage(model, input_size, model_memory=trainer.required_memory)"
   ],
   "outputs": [
    {
     "output_type": "stream",
     "name": "stdout",
     "text": [
      "Computing parameters...\n",
      "Computing complexity...\n"
     ]
    },
    {
     "output_type": "stream",
     "name": "stderr",
     "text": [
      "C:\\Users\\giang\\anaconda3\\envs\\thesis\\lib\\site-packages\\torch\\nn\\functional.py:718: UserWarning: Named tensors and all their associated APIs are an experimental feature and subject to change. Please do not use them for anything important until they are released as stable. (Triggered internally at  ..\\c10/core/TensorImpl.h:1156.)\n",
      "  return torch.max_pool2d(input, kernel_size, stride, padding, dilation, ceil_mode)\n"
     ]
    },
    {
     "output_type": "stream",
     "name": "stdout",
     "text": [
      "Computing mean inference time...\n",
      "Computing memory usage...\n"
     ]
    }
   ],
   "metadata": {}
  },
  {
   "cell_type": "code",
   "execution_count": 4,
   "source": [
    "print('================================================================')\r\n",
    "print(str(model.__class__).split('.')[-1].split(\"'\")[0])\r\n",
    "print('================================================================')\r\n",
    "print('Total params: ' + str(total_params))\r\n",
    "print('Trainable params: ' + str(trainable_params))\r\n",
    "print('Non-trainable params: ' + str(total_params - trainable_params))\r\n",
    "print('----------------------------------------------------------------')\r\n",
    "print(f'Average flops cost: {avg_flops_cost}')\r\n",
    "print('----------------------------------------------------------------')\r\n",
    "print('Average inference time for every batch size:')\r\n",
    "batch_sizes = [1, 2, 4, 8, 16, 32, 64]\r\n",
    "for b, m, s in zip(batch_sizes, mean_tfp, std_tfp):\r\n",
    "    print(f'{b}: {m:.2f} +/- {s:.2f}')\r\n",
    "print('----------------------------------------------------------------')\r\n",
    "print('Memory usage for every batch size:')\r\n",
    "batch_sizes = [1, 2, 4, 8, 16, 32, 64]\r\n",
    "for b, m in zip(batch_sizes, memory):\r\n",
    "    print(f'{b}: {m}')\r\n",
    "print('================================================================')"
   ],
   "outputs": [
    {
     "output_type": "stream",
     "name": "stdout",
     "text": [
      "================================================================\n",
      "AutoSpeechResNet34\n",
      "================================================================\n",
      "Total params: 21920163\n",
      "Trainable params: 21920163\n",
      "Non-trainable params: 0\n",
      "----------------------------------------------------------------\n",
      "Average flops cost: 5.59681536\n",
      "----------------------------------------------------------------\n",
      "Average inference time for every batch size:\n",
      "1: 12.19 +/- 0.87\n",
      "2: 8.54 +/- 0.35\n",
      "4: 6.30 +/- 0.15\n",
      "8: 5.61 +/- 0.04\n",
      "16: 4.61 +/- 0.05\n",
      "32: 4.29 +/- 0.02\n",
      "64: 4.97 +/- 0.01\n",
      "----------------------------------------------------------------\n",
      "Memory usage for every batch size:\n",
      "1: 546.0\n",
      "2: 546.0\n",
      "4: 546.0\n",
      "8: 546.0\n",
      "16: 546.0\n",
      "32: 546.0\n",
      "64: 546.0\n",
      "================================================================\n"
     ]
    }
   ],
   "metadata": {}
  }
 ],
 "metadata": {
  "orig_nbformat": 4,
  "language_info": {
   "name": "python",
   "version": "3.9.5",
   "mimetype": "text/x-python",
   "codemirror_mode": {
    "name": "ipython",
    "version": 3
   },
   "pygments_lexer": "ipython3",
   "nbconvert_exporter": "python",
   "file_extension": ".py"
  },
  "kernelspec": {
   "name": "python3",
   "display_name": "Python 3.9.5 64-bit ('thesis': conda)"
  },
  "interpreter": {
   "hash": "f0943c63898b79bfcd286c3c4f0ffd99a54d61a7d3642b2f4654bd0702b8af40"
  }
 },
 "nbformat": 4,
 "nbformat_minor": 2
}
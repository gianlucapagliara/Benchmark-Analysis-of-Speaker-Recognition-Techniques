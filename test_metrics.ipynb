{
 "cells": [
  {
   "cell_type": "code",
   "execution_count": 1,
   "source": [
    "from utils.config import *\r\n",
    "from agents.trainer import Trainer\r\n",
    "from utils.metrics import *\r\n",
    "\r\n",
    "import torchaudio\r\n",
    "torchaudio.set_audio_backend(\"soundfile\")\r\n",
    "\r\n",
    "\r\n",
    "# JSON = 'configs/VGGVox.json'\r\n",
    "# JSON = 'configs/pre_trained/AutoSpeech.json'\r\n",
    "# JSON = 'configs/pre_trained/ResNetSE34L.json'\r\n",
    "# JSON = 'configs/pre_trained/Cnn3D.json'\r\n",
    "JSON = 'configs/pre_trained/SincNet.json'\r\n",
    "# JSON = 'configs/pre_trained/MobileNet.json'\r\n",
    "\r\n",
    "config = process_config(JSON)\r\n",
    "trainer = Trainer(config)"
   ],
   "outputs": [
    {
     "output_type": "stream",
     "name": "stderr",
     "text": [
      "[INFO]: Experiment: SincNet Pretrained.\n",
      "[INFO]: Operation will be on ***** GPU-CUDA ***** \n",
      "[INFO]: __Python VERSION:  3.9.5 | packaged by conda-forge | (default, Jun 19 2021, 00:22:33) [MSC v.1916 64 bit (AMD64)]\n",
      "[INFO]: __pyTorch VERSION:  1.9.0\n",
      "[INFO]: __CUDA VERSION\n",
      "[INFO]: __CUDNN VERSION:  7605\n",
      "[INFO]: __Number CUDA Devices:  1\n",
      "[INFO]: __Devices\n",
      "[INFO]: Active CUDA Device: GPU 0\n",
      "[INFO]: Available devices  1\n",
      "[INFO]: Current cuda device  0\n"
     ]
    }
   ],
   "metadata": {}
  },
  {
   "cell_type": "code",
   "execution_count": 2,
   "source": [
    "model = trainer.__model__\r\n",
    "input_size = next(iter(trainer.test_loader))[0].squeeze(0).shape\r\n",
    "input_size"
   ],
   "outputs": [
    {
     "output_type": "execute_result",
     "data": {
      "text/plain": [
       "torch.Size([90881])"
      ]
     },
     "metadata": {},
     "execution_count": 2
    }
   ],
   "metadata": {}
  },
  {
   "cell_type": "code",
   "execution_count": 3,
   "source": [
    "print('Computing parameters...')\r\n",
    "total_params, trainable_params = compute_parameters(model)\r\n",
    "print('Computing complexity...')\r\n",
    "avg_flops_cost = compute_complexity(model, input_size, batch_size=64)\r\n",
    "print('Computing mean inference time...')\r\n",
    "mean_tfp, std_tfp = compute_inference_time(model, input_size)\r\n",
    "print('Computing memory usage...')\r\n",
    "memory = compute_memory_usage(model, input_size, model_memory=trainer.required_memory)"
   ],
   "outputs": [
    {
     "output_type": "stream",
     "name": "stdout",
     "text": [
      "Computing parameters...\n",
      "Computing complexity...\n"
     ]
    },
    {
     "output_type": "stream",
     "name": "stderr",
     "text": [
      "C:\\Users\\giang\\anaconda3\\envs\\thesis\\lib\\site-packages\\torch\\nn\\functional.py:652: UserWarning: Named tensors and all their associated APIs are an experimental feature and subject to change. Please do not use them for anything important until they are released as stable. (Triggered internally at  ..\\c10/core/TensorImpl.h:1156.)\n",
      "  return torch.max_pool1d(input, kernel_size, stride, padding, dilation, ceil_mode)\n"
     ]
    },
    {
     "output_type": "stream",
     "name": "stdout",
     "text": [
      "Computing mean inference time...\n",
      "Computing memory usage...\n"
     ]
    }
   ],
   "metadata": {}
  },
  {
   "cell_type": "code",
   "execution_count": 4,
   "source": [
    "print('================================================================')\r\n",
    "print(str(model.__class__).split('.')[-1].split(\"'\")[0])\r\n",
    "print('================================================================')\r\n",
    "print('Total params: ' + str(total_params))\r\n",
    "print('Trainable params: ' + str(trainable_params))\r\n",
    "print('Non-trainable params: ' + str(total_params - trainable_params))\r\n",
    "print('----------------------------------------------------------------')\r\n",
    "print(f'Average flops cost: {avg_flops_cost}')\r\n",
    "print('----------------------------------------------------------------')\r\n",
    "print('Average inference time for every batch size:')\r\n",
    "batch_sizes = [1, 2, 4, 8, 16, 32, 64]\r\n",
    "for b, m, s in zip(batch_sizes, mean_tfp, std_tfp):\r\n",
    "    print(f'{b}: {m:.2f} +/- {s:.2f}')\r\n",
    "print('----------------------------------------------------------------')\r\n",
    "print('Memory usage for every batch size:')\r\n",
    "batch_sizes = [1, 2, 4, 8, 16, 32, 64]\r\n",
    "for b, m in zip(batch_sizes, memory):\r\n",
    "    print(f'{b}: {m}')\r\n",
    "print('================================================================')"
   ],
   "outputs": [
    {
     "output_type": "stream",
     "name": "stdout",
     "text": [
      "================================================================\n",
      "SincNet\n",
      "================================================================\n",
      "Total params: 22787134\n",
      "Trainable params: 22787134\n",
      "Non-trainable params: 0\n",
      "----------------------------------------------------------------\n",
      "Average flops cost: 0.0\n",
      "----------------------------------------------------------------\n",
      "Average inference time for every batch size:\n",
      "1: 182.50 +/- 2.20\n",
      "2: 187.44 +/- 2.25\n",
      "4: 183.20 +/- 0.86\n",
      "8: 183.75 +/- 1.16\n",
      "16: 185.03 +/- 0.63\n",
      "32: 191.98 +/- 2.86\n",
      "64: 198.27 +/- 2.98\n",
      "----------------------------------------------------------------\n",
      "Memory usage for every batch size:\n",
      "1: 545.0\n",
      "2: 545.0\n",
      "4: 545.0\n",
      "8: 545.0\n",
      "16: 545.0\n",
      "32: 545.0\n",
      "64: 545.0\n",
      "================================================================\n"
     ]
    }
   ],
   "metadata": {}
  }
 ],
 "metadata": {
  "orig_nbformat": 4,
  "language_info": {
   "name": "python",
   "version": "3.9.5",
   "mimetype": "text/x-python",
   "codemirror_mode": {
    "name": "ipython",
    "version": 3
   },
   "pygments_lexer": "ipython3",
   "nbconvert_exporter": "python",
   "file_extension": ".py"
  },
  "kernelspec": {
   "name": "python3",
   "display_name": "Python 3.9.5 64-bit ('thesis': conda)"
  },
  "interpreter": {
   "hash": "f0943c63898b79bfcd286c3c4f0ffd99a54d61a7d3642b2f4654bd0702b8af40"
  }
 },
 "nbformat": 4,
 "nbformat_minor": 2
}
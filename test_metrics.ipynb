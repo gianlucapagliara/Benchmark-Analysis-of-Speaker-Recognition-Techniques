{
 "cells": [
  {
   "cell_type": "code",
   "execution_count": 1,
   "source": [
    "from utils.config import *\r\n",
    "from agents.trainer import Trainer\r\n",
    "from utils.metrics import *\r\n",
    "\r\n",
    "import torchaudio\r\n",
    "torchaudio.set_audio_backend(\"soundfile\")\r\n",
    "\r\n",
    "\r\n",
    "# JSON = 'configs/VGGVox.json'\r\n",
    "# JSON = 'configs/pre_trained/AutoSpeech.json'\r\n",
    "JSON = 'configs/pre_trained/ResNetSE34L.json'\r\n",
    "# JSON = 'configs/pre_trained/Cnn3D.json'\r\n",
    "# JSON = 'configs/pre_trained/SincNet.json'\r\n",
    "# JSON = 'configs/pre_trained/MobileNet.json'\r\n",
    "\r\n",
    "config = process_config(JSON)\r\n",
    "trainer = Trainer(config)"
   ],
   "outputs": [
    {
     "output_type": "stream",
     "name": "stderr",
     "text": [
      "[INFO]: Experiment: ResNetSE34L Pretrained.\n",
      "[INFO]: Operation will be on ***** GPU-CUDA ***** \n",
      "[INFO]: __Python VERSION:  3.9.5 | packaged by conda-forge | (default, Jun 19 2021, 00:22:33) [MSC v.1916 64 bit (AMD64)]\n",
      "[INFO]: __pyTorch VERSION:  1.9.0\n",
      "[INFO]: __CUDA VERSION\n",
      "[INFO]: __CUDNN VERSION:  7605\n",
      "[INFO]: __Number CUDA Devices:  1\n",
      "[INFO]: __Devices\n",
      "[INFO]: Active CUDA Device: GPU 0\n",
      "[INFO]: Available devices  1\n",
      "[INFO]: Current cuda device  0\n"
     ]
    }
   ],
   "metadata": {}
  },
  {
   "cell_type": "code",
   "execution_count": 2,
   "source": [
    "model = trainer.__model__\r\n",
    "input_size = next(iter(trainer.test_loader))[0].shape"
   ],
   "outputs": [],
   "metadata": {}
  },
  {
   "cell_type": "code",
   "execution_count": 3,
   "source": [
    "print('Computing parameters...')\r\n",
    "total_params, trainable_params = compute_parameters(model)\r\n",
    "print('Computing complexity...')\r\n",
    "avg_flops_cost = compute_complexity(model, input_size)\r\n",
    "print('Computing mean inference time...')\r\n",
    "mean_tfp, std_tfp = compute_inference_time(model, input_size)\r\n",
    "print('Computing memory usage...')\r\n",
    "memory = compute_memory_usage(model, input_size)"
   ],
   "outputs": [
    {
     "output_type": "stream",
     "name": "stdout",
     "text": [
      "Computing parameters...\n",
      "Computing complexity...\n",
      "Computing mean inference time...\n",
      "Computing memory usage...\n"
     ]
    }
   ],
   "metadata": {}
  },
  {
   "cell_type": "code",
   "execution_count": 4,
   "source": [
    "print('================================================================')\r\n",
    "print(str(model.__class__).split('.')[-1].split(\"'\")[0])\r\n",
    "print('================================================================')\r\n",
    "print('Total params: ' + str(total_params))\r\n",
    "print('Trainable params: ' + str(trainable_params))\r\n",
    "print('Non-trainable params: ' + str(total_params - trainable_params))\r\n",
    "print('----------------------------------------------------------------')\r\n",
    "print(f'Average flops cost: {avg_flops_cost}')\r\n",
    "print('----------------------------------------------------------------')\r\n",
    "print('Average inference time for every batch size:')\r\n",
    "batch_sizes = [1, 2, 4, 8, 16, 32, 64]\r\n",
    "for b, m, s in zip(batch_sizes, mean_tfp, std_tfp):\r\n",
    "    print(f'{b}: {m:.2f} +/- {s:.2f}')\r\n",
    "print('----------------------------------------------------------------')\r\n",
    "print('Memory usage for every batch size:')\r\n",
    "batch_sizes = [1, 2, 4, 8, 16, 32, 64]\r\n",
    "for b, m in zip(batch_sizes, memory):\r\n",
    "    print(f'{b}: {m}')\r\n",
    "print('================================================================')"
   ],
   "outputs": [
    {
     "output_type": "stream",
     "name": "stdout",
     "text": [
      "================================================================\n",
      "ResNetSE34L\n",
      "================================================================\n",
      "Total params: 1437078\n",
      "Trainable params: 1437078\n",
      "Non-trainable params: 0\n",
      "----------------------------------------------------------------\n",
      "Average flops cost: 8.8622656\n",
      "----------------------------------------------------------------\n",
      "Average inference time for every batch size:\n",
      "1: 22.99 +/- 0.44\n",
      "2: 21.04 +/- 0.15\n",
      "4: 18.89 +/- 0.12\n",
      "8: 17.88 +/- 0.04\n",
      "16: 17.58 +/- 0.03\n",
      "32: 17.43 +/- 0.02\n",
      "64: 17.39 +/- 0.02\n",
      "----------------------------------------------------------------\n",
      "Memory usage for every batch size:\n",
      "1: 4974.0\n",
      "2: 4976.0\n",
      "4: 4976.0\n",
      "8: 4976.0\n",
      "16: 4976.0\n",
      "32: 4976.0\n",
      "64: 4976.0\n",
      "================================================================\n"
     ]
    }
   ],
   "metadata": {}
  }
 ],
 "metadata": {
  "orig_nbformat": 4,
  "language_info": {
   "name": "python",
   "version": "3.9.5",
   "mimetype": "text/x-python",
   "codemirror_mode": {
    "name": "ipython",
    "version": 3
   },
   "pygments_lexer": "ipython3",
   "nbconvert_exporter": "python",
   "file_extension": ".py"
  },
  "kernelspec": {
   "name": "python3",
   "display_name": "Python 3.9.5 64-bit ('thesis': conda)"
  },
  "interpreter": {
   "hash": "f0943c63898b79bfcd286c3c4f0ffd99a54d61a7d3642b2f4654bd0702b8af40"
  }
 },
 "nbformat": 4,
 "nbformat_minor": 2
}
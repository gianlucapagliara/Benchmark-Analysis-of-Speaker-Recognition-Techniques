{
 "cells": [
  {
   "cell_type": "code",
   "execution_count": 1,
   "source": [
    "from utils.config import *\r\n",
    "from agents.trainer import Trainer\r\n",
    "from utils.metrics import *\r\n",
    "\r\n",
    "import torchaudio\r\n",
    "torchaudio.set_audio_backend(\"soundfile\")\r\n",
    "\r\n",
    "\r\n",
    "# JSON = 'configs/VGGVox.json'\r\n",
    "# JSON = 'configs/pre_trained/AutoSpeech.json'\r\n",
    "JSON = 'configs/pre_trained/ResNetSE34L.json'\r\n",
    "# JSON = 'configs/pre_trained/Cnn3D.json'\r\n",
    "# JSON = 'configs/pre_trained/SincNet.json'\r\n",
    "# JSON = 'configs/pre_trained/MobileNet.json'\r\n",
    "\r\n",
    "config = process_config(JSON)\r\n",
    "trainer = Trainer(config)"
   ],
   "outputs": [
    {
     "output_type": "stream",
     "name": "stderr",
     "text": [
      "[INFO]: Experiment: ResNetSE34L Pretrained.\n",
      "[INFO]: Operation will be on ***** GPU-CUDA ***** \n",
      "[INFO]: __Python VERSION:  3.9.5 | packaged by conda-forge | (default, Jun 19 2021, 00:22:33) [MSC v.1916 64 bit (AMD64)]\n",
      "[INFO]: __pyTorch VERSION:  1.9.0\n",
      "[INFO]: __CUDA VERSION\n",
      "[INFO]: __CUDNN VERSION:  7605\n",
      "[INFO]: __Number CUDA Devices:  1\n",
      "[INFO]: __Devices\n",
      "[INFO]: Active CUDA Device: GPU 0\n",
      "[INFO]: Available devices  1\n",
      "[INFO]: Current cuda device  0\n"
     ]
    }
   ],
   "metadata": {}
  },
  {
   "cell_type": "code",
   "execution_count": 5,
   "source": [
    "import importlib\r\n",
    "\r\n",
    "def load_model():\r\n",
    "    Model = importlib.import_module(\r\n",
    "        'graphs.models.' + config.model).__getattribute__(config.model)\r\n",
    "    config.device = torch.device(\"cuda\")\r\n",
    "    return Model(**vars(config)).to(config.device)\r\n",
    "\r\n",
    "model = load_model()"
   ],
   "outputs": [],
   "metadata": {}
  },
  {
   "cell_type": "code",
   "execution_count": 12,
   "source": [
    "model = trainer.__model__\r\n",
    "for e in trainer.test_loader:\r\n",
    "    break\r\n",
    "input_size = e[0].shape"
   ],
   "outputs": [],
   "metadata": {}
  },
  {
   "cell_type": "code",
   "execution_count": 13,
   "source": [
    "# compute_complexity(model, input_size)\r\n",
    "compute_inference_time(model, input_size)"
   ],
   "outputs": [
    {
     "output_type": "stream",
     "name": "stdout",
     "text": [
      "DONE WITH DRY RUNS, NOW BENCHMARKING\n",
      "DONE WITH DRY RUNS, NOW BENCHMARKING\n",
      "DONE WITH DRY RUNS, NOW BENCHMARKING\n",
      "DONE WITH DRY RUNS, NOW BENCHMARKING\n",
      "DONE WITH DRY RUNS, NOW BENCHMARKING\n",
      "DONE WITH DRY RUNS, NOW BENCHMARKING\n",
      "DONE WITH DRY RUNS, NOW BENCHMARKING\n"
     ]
    },
    {
     "output_type": "execute_result",
     "data": {
      "text/plain": [
       "([26.58517360687256,\n",
       "  25.135886669158936,\n",
       "  24.561291933059692,\n",
       "  23.823833465576172,\n",
       "  23.480498790740967,\n",
       "  23.352233320474625,\n",
       "  23.269422724843025],\n",
       " [0.49052400990603756,\n",
       "  0.22940952626754413,\n",
       "  0.11349339005836843,\n",
       "  0.07998310370885635,\n",
       "  0.05218680078123108,\n",
       "  0.03432211083643411,\n",
       "  0.014535861196974588])"
      ]
     },
     "metadata": {},
     "execution_count": 13
    }
   ],
   "metadata": {}
  }
 ],
 "metadata": {
  "orig_nbformat": 4,
  "language_info": {
   "name": "python",
   "version": "3.9.5",
   "mimetype": "text/x-python",
   "codemirror_mode": {
    "name": "ipython",
    "version": 3
   },
   "pygments_lexer": "ipython3",
   "nbconvert_exporter": "python",
   "file_extension": ".py"
  },
  "kernelspec": {
   "name": "python3",
   "display_name": "Python 3.9.5 64-bit ('thesis': conda)"
  },
  "interpreter": {
   "hash": "f0943c63898b79bfcd286c3c4f0ffd99a54d61a7d3642b2f4654bd0702b8af40"
  }
 },
 "nbformat": 4,
 "nbformat_minor": 2
}
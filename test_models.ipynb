{
 "cells": [
  {
   "cell_type": "code",
   "execution_count": 1,
   "source": [
    "import torchaudio\r\n",
    "torchaudio.set_audio_backend(\"soundfile\")\r\n",
    "\r\n",
    "from agents.trainer import Trainer\r\n",
    "\r\n",
    "from utils.config import *\r\n",
    "\r\n",
    "# JSON = 'configs/Test.json'\r\n",
    "# JSON = 'configs/VGGVox.json'\r\n",
    "# JSON = 'configs/pre_trained/AutoSpeech.json'\r\n",
    "# JSON = 'configs/pre_trained/ResNetSE34L.json'\r\n",
    "JSON = 'configs/pre_trained/ResNetSE34V2.json'\r\n",
    "# JSON = 'configs/pre_trained/Cnn3D.json'\r\n",
    "# JSON = 'configs/pre_trained/SincNet.json'\r\n",
    "# JSON = 'configs/pre_trained/MobileNet.json'\r\n",
    "\r\n",
    "config = process_config(JSON)\r\n",
    "\r\n",
    "trainer = Trainer(config)\r\n",
    "trainer.run()\r\n"
   ],
   "outputs": [
    {
     "output_type": "stream",
     "name": "stderr",
     "text": [
      "[INFO]: Experiment: SincNet Pretrained.\n",
      "[INFO]: Operation will be on ***** GPU-CUDA ***** \n",
      "[INFO]: __Python VERSION:  3.9.5 | packaged by conda-forge | (default, Jun 19 2021, 00:22:33) [MSC v.1916 64 bit (AMD64)]\n",
      "[INFO]: __pyTorch VERSION:  1.9.0\n",
      "[INFO]: __CUDA VERSION\n",
      "[INFO]: __CUDNN VERSION:  7605\n",
      "[INFO]: __Number CUDA Devices:  1\n",
      "[INFO]: __Devices\n",
      "[INFO]: Active CUDA Device: GPU 0\n",
      "[INFO]: Available devices  1\n",
      "[INFO]: Current cuda device  0\n",
      "Epoch 1:   0%|          | 0/37720 [00:00<?, ?it/s]C:\\Users\\giang\\anaconda3\\envs\\thesis\\lib\\site-packages\\torch\\nn\\functional.py:652: UserWarning: Named tensors and all their associated APIs are an experimental feature and subject to change. Please do not use them for anything important until they are released as stable. (Triggered internally at  ..\\c10/core/TensorImpl.h:1156.)\n",
      "  return torch.max_pool1d(input, kernel_size, stride, padding, dilation, ceil_mode)\n",
      "Epoch-1 Validation | VEER 40.0000% MDC 0.82000 | Efficiency 99.77% :   0%|          | 107/37720 [00:55<5:24:59,  1.93it/s]\n",
      "[INFO]: You have entered CTRL+C... Wait to finalize.\n"
     ]
    }
   ],
   "metadata": {}
  }
 ],
 "metadata": {
  "interpreter": {
   "hash": "f0943c63898b79bfcd286c3c4f0ffd99a54d61a7d3642b2f4654bd0702b8af40"
  },
  "kernelspec": {
   "name": "python3",
   "display_name": "Python 3.9.5 64-bit ('thesis': conda)"
  },
  "language_info": {
   "codemirror_mode": {
    "name": "ipython",
    "version": 3
   },
   "file_extension": ".py",
   "mimetype": "text/x-python",
   "name": "python",
   "nbconvert_exporter": "python",
   "pygments_lexer": "ipython3",
   "version": "3.9.5"
  },
  "metadata": {
   "interpreter": {
    "hash": "8036e4c51114ddf1e2050050a6c672e5d73fadc6671b7cf90c94b7a7c6aa158a"
   }
  },
  "orig_nbformat": 2
 },
 "nbformat": 4,
 "nbformat_minor": 2
}
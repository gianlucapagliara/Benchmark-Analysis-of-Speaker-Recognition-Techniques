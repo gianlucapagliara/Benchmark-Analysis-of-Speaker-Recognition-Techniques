{
 "cells": [
  {
   "cell_type": "code",
   "execution_count": null,
   "source": [
    "import torchaudio\r\n",
    "torchaudio.set_audio_backend(\"soundfile\")\r\n",
    "from agents.tester import Tester\r\n",
    "from utils.config import *\r\n",
    "\r\n",
    "\r\n",
    "# YAML = 'configs/pre_trained/ResNet18.yaml'\r\n",
    "# YAML = 'configs/pre_trained/ResNet34.yaml'\r\n",
    "# YAML = 'configs/pre_trained/ResNetSE34L.yaml'\r\n",
    "# YAML = 'configs/pre_trained/ResNetSE34V2.yaml'\r\n",
    "# YAML = 'configs/pre_trained/VGGVox.yaml'\r\n",
    "# YAML = 'configs/pre_trained/AutoSpeech.yaml'\r\n",
    "# YAML = 'configs/pre_trained/Cnn3D.yaml'\r\n",
    "# YAML = 'configs/pre_trained/SincNet.yaml'\r\n",
    "YAML = 'configs/pre_trained/MobileNet.yaml'\r\n",
    "\r\n",
    "config = process_config(YAML)\r\n",
    "\r\n",
    "agent = Tester(config)\r\n",
    "agent.run()"
   ],
   "outputs": [],
   "metadata": {}
  }
 ],
 "metadata": {
  "orig_nbformat": 4,
  "language_info": {
   "name": "python",
   "version": "3.9.5",
   "mimetype": "text/x-python",
   "codemirror_mode": {
    "name": "ipython",
    "version": 3
   },
   "pygments_lexer": "ipython3",
   "nbconvert_exporter": "python",
   "file_extension": ".py"
  },
  "kernelspec": {
   "name": "python3",
   "display_name": "Python 3.9.5 64-bit ('thesis': conda)"
  },
  "interpreter": {
   "hash": "f0943c63898b79bfcd286c3c4f0ffd99a54d61a7d3642b2f4654bd0702b8af40"
  }
 },
 "nbformat": 4,
 "nbformat_minor": 2
}
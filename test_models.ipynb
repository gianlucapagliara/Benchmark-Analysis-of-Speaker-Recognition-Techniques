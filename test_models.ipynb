{
 "cells": [
  {
   "cell_type": "code",
   "execution_count": 4,
   "metadata": {},
   "outputs": [
    {
     "name": "stderr",
     "output_type": "stream",
     "text": [
      "[INFO]: Loading configuration and creating dirs.\n",
      "[INFO]: Experiment: AutoSpeech Pretrained.\n",
      "[INFO]: Experiment: AutoSpeech Pretrained.\n"
     ]
    }
   ],
   "source": [
    "import torchaudio\r\n",
    "torchaudio.set_audio_backend(\"soundfile\")\r\n",
    "\r\n",
    "from datasets.Sampler import Sampler\r\n",
    "from graphs.models.VGGVox import VGGVox\r\n",
    "\r\n",
    "from agents.trainer import Trainer\r\n",
    "\r\n",
    "\r\n",
    "from utils.config import *\r\n",
    "\r\n",
    "# JSON = 'configs/VGGVox.json'\r\n",
    "JSON = 'configs/pre_trained/AutoSpeech.json'\r\n",
    "# JSON = 'configs/pre_trained/ResNetSE34L.json'\r\n",
    "# JSON = 'configs/Test.json'\r\n",
    "\r\n",
    "config = process_config(JSON)"
   ]
  },
  {
   "cell_type": "code",
   "execution_count": 5,
   "metadata": {},
   "outputs": [
    {
     "name": "stderr",
     "output_type": "stream",
     "text": [
      "[INFO]: Operation will be on ***** GPU-CUDA ***** \n",
      "[INFO]: Operation will be on ***** GPU-CUDA ***** \n",
      "[INFO]: __Python VERSION:  3.9.5 | packaged by conda-forge | (default, Jun 19 2021, 00:22:33) [MSC v.1916 64 bit (AMD64)]\n",
      "[INFO]: __Python VERSION:  3.9.5 | packaged by conda-forge | (default, Jun 19 2021, 00:22:33) [MSC v.1916 64 bit (AMD64)]\n",
      "[INFO]: __pyTorch VERSION:  1.9.0\n",
      "[INFO]: __pyTorch VERSION:  1.9.0\n",
      "[INFO]: __CUDA VERSION\n",
      "[INFO]: __CUDA VERSION\n",
      "[INFO]: __CUDNN VERSION:  7605\n",
      "[INFO]: __CUDNN VERSION:  7605\n",
      "[INFO]: __Number CUDA Devices:  1\n",
      "[INFO]: __Number CUDA Devices:  1\n",
      "[INFO]: __Devices\n",
      "[INFO]: __Devices\n",
      "[INFO]: Active CUDA Device: GPU 0\n",
      "[INFO]: Active CUDA Device: GPU 0\n",
      "[INFO]: Available devices  1\n",
      "[INFO]: Available devices  1\n",
      "[INFO]: Current cuda device  0\n",
      "[INFO]: Current cuda device  0\n"
     ]
    },
    {
     "name": "stdout",
     "output_type": "stream",
     "text": [
      "epoch is not in the model.\n",
      "state_dict is not in the model.\n",
      "best_acc1 is not in the model.\n",
      "optimizer is not in the model.\n",
      "path_helper is not in the model.\n",
      "genotype is not in the model.\n"
     ]
    }
   ],
   "source": [
    "trainer = Trainer(config)"
   ]
  },
  {
   "cell_type": "code",
   "execution_count": 6,
   "metadata": {
    "tags": []
   },
   "outputs": [
    {
     "name": "stderr",
     "output_type": "stream",
     "text": [
      "Epoch 1:   0%|          | 0/37720 [00:00<?, ?it/s]C:\\Users\\giang\\anaconda3\\envs\\thesis\\lib\\site-packages\\torch\\nn\\functional.py:718: UserWarning: Named tensors and all their associated APIs are an experimental feature and subject to change. Please do not use them for anything important until they are released as stable. (Triggered internally at  ..\\c10/core/TensorImpl.h:1156.)\n",
      "  return torch.max_pool2d(input, kernel_size, stride, padding, dilation, ceil_mode)\n",
      "Epoch-1 Validation | VEER 50.0000% MDC 1.00000 | Efficiency 92.50% :   0%|          | 136/37720 [00:43<3:20:26,  3.12it/s]\n",
      "[INFO]: You have entered CTRL+C... Wait to finalize.\n",
      "[INFO]: You have entered CTRL+C... Wait to finalize.\n"
     ]
    }
   ],
   "source": [
    "trainer.run()"
   ]
  }
 ],
 "metadata": {
  "interpreter": {
   "hash": "f0943c63898b79bfcd286c3c4f0ffd99a54d61a7d3642b2f4654bd0702b8af40"
  },
  "kernelspec": {
   "display_name": "Python 3.9.5 64-bit ('thesis': conda)",
   "name": "python3"
  },
  "language_info": {
   "codemirror_mode": {
    "name": "ipython",
    "version": 3
   },
   "file_extension": ".py",
   "mimetype": "text/x-python",
   "name": "python",
   "nbconvert_exporter": "python",
   "pygments_lexer": "ipython3",
   "version": "3.9.5"
  },
  "metadata": {
   "interpreter": {
    "hash": "8036e4c51114ddf1e2050050a6c672e5d73fadc6671b7cf90c94b7a7c6aa158a"
   }
  },
  "orig_nbformat": 2
 },
 "nbformat": 4,
 "nbformat_minor": 2
}
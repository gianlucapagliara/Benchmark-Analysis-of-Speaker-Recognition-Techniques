{
 "cells": [
  {
   "cell_type": "code",
   "execution_count": 1,
   "metadata": {},
   "outputs": [
    {
     "name": "stderr",
     "output_type": "stream",
     "text": [
      "C:\\Users\\giang\\anaconda3\\lib\\site-packages\\torchaudio\\extension\\extension.py:13: UserWarning: torchaudio C++ extension is not available.\n",
      "  warnings.warn('torchaudio C++ extension is not available.')\n",
      "[INFO]: Experiment: ResNetSE34L.\n"
     ]
    }
   ],
   "source": [
    "import torchaudio\n",
    "torchaudio.set_audio_backend(\"soundfile\")\n",
    "\n",
    "from datasets.Sampler import Sampler\n",
    "from graphs.models.SpeakerNet import SpeakerNet\n",
    "from graphs.models.VGGVox import VGGVox\n",
    "\n",
    "from agents.trainer import Trainer\n",
    "\n",
    "\n",
    "from utils.config import *\n",
    "\n",
    "#JSON = 'configs/VGGVox.json'\n",
    "JSON = 'configs/ResNetSE34L.json'\n",
    "#JSON = 'configs/Test.json'\n",
    "\n",
    "config = process_config(JSON)"
   ]
  },
  {
   "cell_type": "code",
   "execution_count": 2,
   "metadata": {},
   "outputs": [
    {
     "name": "stderr",
     "output_type": "stream",
     "text": [
      "[INFO]: Operation will be on ***** GPU-CUDA ***** \n",
      "[INFO]: __Python VERSION:  3.6.13 (default, Feb 19 2021, 05:17:09) [MSC v.1916 64 bit (AMD64)]\n",
      "[INFO]: __pyTorch VERSION:  1.8.1+cu102\n",
      "[INFO]: __CUDA VERSION\n",
      "[INFO]: __CUDNN VERSION:  7605\n",
      "[INFO]: __Number CUDA Devices:  1\n",
      "[INFO]: __Devices\n",
      "[INFO]: Active CUDA Device: GPU 0\n",
      "[INFO]: Available devices  1\n",
      "[INFO]: Current cuda device  0\n",
      "[INFO]: Loading checkpoint 'experiments\\ResNetSE34L\\checkpoints/'\n",
      "[INFO]: No checkpoint exists from 'experiments\\ResNetSE34L\\checkpoints/'. Skipping...\n"
     ]
    }
   ],
   "source": [
    "trainer = Trainer(config)"
   ]
  },
  {
   "cell_type": "code",
   "execution_count": 3,
   "metadata": {
    "tags": []
   },
   "outputs": [
    {
     "name": "stderr",
     "output_type": "stream",
     "text": [
      "Epoch-1 Validation | VEER 2.1792 MDC 0.16909| Efficiency 98.60 : 100%|██████████| 37720/37720 [43:55<00:00, 14.31it/s]\n"
     ]
    }
   ],
   "source": [
    "trainer.run()"
   ]
  }
 ],
 "metadata": {
  "kernelspec": {
   "display_name": "Python 3.6.13 64-bit ('base': conda)",
   "name": "python38364bitconda8427c4b38768436f877996e07fe52583"
  },
  "language_info": {
   "codemirror_mode": {
    "name": "ipython",
    "version": 3
   },
   "file_extension": ".py",
   "mimetype": "text/x-python",
   "name": "python",
   "nbconvert_exporter": "python",
   "pygments_lexer": "ipython3",
   "version": "3.6.13"
  },
  "metadata": {
   "interpreter": {
    "hash": "8036e4c51114ddf1e2050050a6c672e5d73fadc6671b7cf90c94b7a7c6aa158a"
   }
  },
  "orig_nbformat": 2
 },
 "nbformat": 4,
 "nbformat_minor": 2
}
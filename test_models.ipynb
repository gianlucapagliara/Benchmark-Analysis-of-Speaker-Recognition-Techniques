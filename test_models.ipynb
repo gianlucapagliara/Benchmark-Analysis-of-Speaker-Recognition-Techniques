{
 "cells": [
  {
   "cell_type": "code",
   "execution_count": null,
   "metadata": {},
   "outputs": [],
   "source": [
    "import torchaudio\n",
    "torchaudio.set_audio_backend(\"soundfile\")\n",
    "from agents.tester import Tester\n",
    "from utils.config import *\n",
    "\n",
    "\n",
    "# YAML = 'configs/pre_trained/ResNet18.yaml'\n",
    "# YAML = 'configs/pre_trained/ResNet34.yaml'\n",
    "# YAML = 'configs/pre_trained/ResNetSE34V2.yaml'\n",
    "# YAML = 'configs/pre_trained/ResNetSE34L.yaml'\n",
    "YAML = 'configs/pre_trained/AutoSpeech.yaml'\n",
    "# YAML = 'configs/pre_trained/VGGVox.yaml'\n",
    "# YAML = 'configs/pre_trained/Cnn3D.yaml'\n",
    "# YAML = 'configs/pre_trained/MobileNet.yaml'\n",
    "# YAML = 'configs/pre_trained/SincNet-TIMIT.yaml'\n",
    "# YAML = 'configs/pre_trained/SincNet-VoxCeleb2.yaml'\n",
    "# YAML = 'configs/pre_trained/SincNet-AMI.yaml'\n",
    "\n",
    "config = process_config(YAML)\n",
    "\n",
    "agent = Tester(config)\n",
    "agent.run()"
   ]
  }
 ],
 "metadata": {
  "interpreter": {
   "hash": "f0943c63898b79bfcd286c3c4f0ffd99a54d61a7d3642b2f4654bd0702b8af40"
  },
  "kernelspec": {
   "display_name": "Python 3.9.5 64-bit ('thesis': conda)",
   "name": "python3"
  },
  "language_info": {
   "codemirror_mode": {
    "name": "ipython",
    "version": 3
   },
   "file_extension": ".py",
   "mimetype": "text/x-python",
   "name": "python",
   "nbconvert_exporter": "python",
   "pygments_lexer": "ipython3",
   "version": "3.9.5"
  },
  "orig_nbformat": 4
 },
 "nbformat": 4,
 "nbformat_minor": 2
}

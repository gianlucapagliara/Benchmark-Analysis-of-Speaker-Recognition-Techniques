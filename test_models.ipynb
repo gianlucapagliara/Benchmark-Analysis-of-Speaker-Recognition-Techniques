{
 "cells": [
  {
   "cell_type": "code",
   "execution_count": 1,
   "metadata": {},
   "outputs": [
    {
     "name": "stderr",
     "output_type": "stream",
     "text": [
      "C:\\Users\\giang\\anaconda3\\lib\\site-packages\\torchaudio\\extension\\extension.py:13: UserWarning: torchaudio C++ extension is not available.\n",
      "  warnings.warn('torchaudio C++ extension is not available.')\n",
      "[INFO]: Experiment: ResNetSE34L Pretrained.\n"
     ]
    }
   ],
   "source": [
    "import torchaudio\r\n",
    "torchaudio.set_audio_backend(\"soundfile\")\r\n",
    "\r\n",
    "from datasets.Sampler import Sampler\r\n",
    "from graphs.models.SpeakerNet import SpeakerNet\r\n",
    "from graphs.models.VGGVox import VGGVox\r\n",
    "\r\n",
    "from agents.trainer import Trainer\r\n",
    "\r\n",
    "\r\n",
    "from utils.config import *\r\n",
    "\r\n",
    "#JSON = 'configs/VGGVox.json'\r\n",
    "JSON = 'configs/pre_trained/ResNetSE34L.json'\r\n",
    "#JSON = 'configs/Test.json'\r\n",
    "\r\n",
    "config = process_config(JSON)"
   ]
  },
  {
   "cell_type": "code",
   "execution_count": 2,
   "metadata": {},
   "outputs": [
    {
     "name": "stderr",
     "output_type": "stream",
     "text": [
      "[INFO]: Operation will be on ***** GPU-CUDA ***** \n",
      "[INFO]: __Python VERSION:  3.6.13 (default, Feb 19 2021, 05:17:09) [MSC v.1916 64 bit (AMD64)]\n",
      "[INFO]: __pyTorch VERSION:  1.8.1+cu102\n",
      "[INFO]: __CUDA VERSION\n",
      "[INFO]: __CUDNN VERSION:  7605\n",
      "[INFO]: __Number CUDA Devices:  1\n",
      "[INFO]: __Devices\n",
      "[INFO]: Active CUDA Device: GPU 0\n",
      "[INFO]: Available devices  1\n",
      "[INFO]: Current cuda device  0\n"
     ]
    }
   ],
   "source": [
    "trainer = Trainer(config)"
   ]
  },
  {
   "cell_type": "code",
   "execution_count": 3,
   "metadata": {
    "tags": []
   },
   "outputs": [
    {
     "name": "stderr",
     "output_type": "stream",
     "text": [
      "Epoch-1 Validation | VEER 1.0000 MDC 0.02000 | Efficiency 95.00% :   1%|          | 203/37720 [00:16<44:20, 14.10it/s]"
     ]
    }
   ],
   "source": [
    "trainer.run()"
   ]
  }
 ],
 "metadata": {
  "kernelspec": {
   "display_name": "Python 3.6.13 64-bit ('base': conda)",
   "name": "python38364bitconda8427c4b38768436f877996e07fe52583"
  },
  "language_info": {
   "codemirror_mode": {
    "name": "ipython",
    "version": 3
   },
   "file_extension": ".py",
   "mimetype": "text/x-python",
   "name": "python",
   "nbconvert_exporter": "python",
   "pygments_lexer": "ipython3",
   "version": "3.6.13"
  },
  "metadata": {
   "interpreter": {
    "hash": "8036e4c51114ddf1e2050050a6c672e5d73fadc6671b7cf90c94b7a7c6aa158a"
   }
  },
  "orig_nbformat": 2
 },
 "nbformat": 4,
 "nbformat_minor": 2
}
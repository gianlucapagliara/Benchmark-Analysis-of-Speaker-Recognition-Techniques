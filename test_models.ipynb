{
 "cells": [
  {
   "cell_type": "code",
   "execution_count": 1,
   "source": [
    "import torchaudio\r\n",
    "torchaudio.set_audio_backend(\"soundfile\")\r\n",
    "from agents.tester import Tester\r\n",
    "from utils.config import *\r\n",
    "\r\n",
    "\r\n",
    "# YAML = 'configs/pre_trained/ResNet18.yaml'\r\n",
    "# YAML = 'configs/pre_trained/ResNet34.yaml'\r\n",
    "# YAML = 'configs/pre_trained/ResNetSE34L.yaml'\r\n",
    "# YAML = 'configs/pre_trained/ResNetSE34V2.yaml'\r\n",
    "# YAML = 'configs/pre_trained/VGGVox.yaml'\r\n",
    "# YAML = 'configs/pre_trained/AutoSpeech.yaml'\r\n",
    "# YAML = 'configs/pre_trained/Cnn3D.yaml'\r\n",
    "# YAML = 'configs/pre_trained/SincNet.yaml'\r\n",
    "YAML = 'configs/pre_trained/MobileNet.yaml'\r\n",
    "\r\n",
    "config = process_config(YAML)\r\n",
    "\r\n",
    "agent = Tester(config)\r\n",
    "agent.run()"
   ],
   "outputs": [
    {
     "output_type": "stream",
     "name": "stderr",
     "text": [
      "[INFO]: Operation will be on ***** GPU-CUDA ***** \n",
      "[INFO]: __Python VERSION:  3.9.5 | packaged by conda-forge | (default, Jun 19 2021, 00:22:33) [MSC v.1916 64 bit (AMD64)]\n",
      "[INFO]: __pyTorch VERSION:  1.9.0\n",
      "[INFO]: __CUDA VERSION\n",
      "[INFO]: __CUDNN VERSION:  7605\n",
      "[INFO]: __Number CUDA Devices:  1\n",
      "[INFO]: __Devices\n",
      "[INFO]: Active CUDA Device: GPU 0\n",
      "[INFO]: Available devices  1\n",
      "[INFO]: Current cuda device  0\n",
      "[INFO]: Computing metrics...\n",
      "C:\\Users\\giang\\anaconda3\\envs\\thesis\\lib\\site-packages\\torch\\nn\\functional.py:652: UserWarning: Named tensors and all their associated APIs are an experimental feature and subject to change. Please do not use them for anything important until they are released as stable. (Triggered internally at  ..\\c10/core/TensorImpl.h:1156.)\n",
      "  return torch.max_pool1d(input, kernel_size, stride, padding, dilation, ceil_mode)\n"
     ]
    },
    {
     "output_type": "stream",
     "name": "stdout",
     "text": [
      "Warning! No positional inputs found for a module, assuming batch size is 1.\n"
     ]
    },
    {
     "output_type": "stream",
     "name": "stderr",
     "text": [
      "[INFO]: ================================================================\n",
      "[INFO]: MobileNetV2\n",
      "[INFO]: ================================================================\n",
      "[INFO]: Total params: 2193128\n",
      "[INFO]: Trainable params: 2193128\n",
      "[INFO]: Non-trainable params: 0\n",
      "[INFO]: ----------------------------------------------------------------\n",
      "[INFO]: Average flops cost: 4.25 GMac\n",
      "[INFO]: ----------------------------------------------------------------\n",
      "[INFO]: Average inference time for every batch size:\n",
      "[INFO]: 1: 20.79 +/- 0.98\n",
      "[INFO]: 2: 19.39 +/- 0.62\n",
      "[INFO]: 4: 18.18 +/- 0.19\n",
      "[INFO]: 8: 17.71 +/- 0.12\n",
      "[INFO]: 16: 17.69 +/- 0.52\n",
      "[INFO]: 32: 17.31 +/- 0.04\n",
      "[INFO]: 64: 25.36 +/- 0.04\n",
      "[INFO]: ----------------------------------------------------------------\n",
      "[INFO]: Memory usage for every batch size:\n",
      "[INFO]: 1:  0.0292\n",
      "[INFO]: 2:  0.0480\n",
      "[INFO]: 4:  0.0877\n",
      "[INFO]: 8:  0.1670\n",
      "[INFO]: 16:  0.3261\n",
      "[INFO]: 32:  0.6439\n",
      "[INFO]: 64:  1.2767\n",
      "[INFO]: ================================================================\n",
      "Epoch-1 Validation | VEER 34.0000% MDC 0.94667 | Efficiency 100.00% :   1%|          | 303/37720 [00:21<44:50, 13.91it/s]\n",
      "[INFO]: You have entered CTRL+C... Wait to finalize.\n"
     ]
    }
   ],
   "metadata": {}
  }
 ],
 "metadata": {
  "orig_nbformat": 4,
  "language_info": {
   "name": "python",
   "version": "3.9.5",
   "mimetype": "text/x-python",
   "codemirror_mode": {
    "name": "ipython",
    "version": 3
   },
   "pygments_lexer": "ipython3",
   "nbconvert_exporter": "python",
   "file_extension": ".py"
  },
  "kernelspec": {
   "name": "python3",
   "display_name": "Python 3.9.5 64-bit ('thesis': conda)"
  },
  "interpreter": {
   "hash": "f0943c63898b79bfcd286c3c4f0ffd99a54d61a7d3642b2f4654bd0702b8af40"
  }
 },
 "nbformat": 4,
 "nbformat_minor": 2
}
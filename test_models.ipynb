{
 "cells": [
  {
   "cell_type": "code",
   "execution_count": 1,
   "source": [
    "import torchaudio\r\n",
    "torchaudio.set_audio_backend(\"soundfile\")\r\n",
    "\r\n",
    "from agents.tester import Tester\r\n",
    "\r\n",
    "from utils.config import *\r\n",
    "\r\n",
    "# JSON = 'configs/pre_trained/ResNet18.json'\r\n",
    "# JSON = 'configs/pre_trained/ResNet34.json'\r\n",
    "# JSON = 'configs/pre_trained/ResNetSE34L.json'\r\n",
    "# JSON = 'configs/pre_trained/ResNetSE34V2.json'\r\n",
    "JSON = 'configs/pre_trained/AutoSpeech.json'\r\n",
    "# JSON = 'configs/pre_trained/Cnn3D.json'\r\n",
    "# JSON = 'configs/pre_trained/SincNet.json'\r\n",
    "# JSON = 'configs/pre_trained/MobileNet.json'\r\n",
    "\r\n",
    "config = process_config(JSON)\r\n",
    "\r\n",
    "agent = Tester(config)\r\n",
    "agent.run()"
   ],
   "outputs": [
    {
     "output_type": "stream",
     "name": "stderr",
     "text": [
      "[INFO]: Experiment: Cnn3D Pretrained.\n"
     ]
    }
   ],
   "metadata": {}
  }
 ],
 "metadata": {
  "interpreter": {
   "hash": "f0943c63898b79bfcd286c3c4f0ffd99a54d61a7d3642b2f4654bd0702b8af40"
  },
  "kernelspec": {
   "name": "python3",
   "display_name": "Python 3.9.5 64-bit ('thesis': conda)"
  },
  "language_info": {
   "codemirror_mode": {
    "name": "ipython",
    "version": 3
   },
   "file_extension": ".py",
   "mimetype": "text/x-python",
   "name": "python",
   "nbconvert_exporter": "python",
   "pygments_lexer": "ipython3",
   "version": "3.9.5"
  },
  "metadata": {
   "interpreter": {
    "hash": "8036e4c51114ddf1e2050050a6c672e5d73fadc6671b7cf90c94b7a7c6aa158a"
   }
  },
  "orig_nbformat": 2
 },
 "nbformat": 4,
 "nbformat_minor": 2
}
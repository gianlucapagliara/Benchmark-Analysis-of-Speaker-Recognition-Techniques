{
 "cells": [
  {
   "cell_type": "code",
   "execution_count": 1,
   "metadata": {},
   "outputs": [
    {
     "name": "stderr",
     "output_type": "stream",
     "text": [
      "[INFO]: Experiment: Cnn3D Pretrained.\n"
     ]
    }
   ],
   "source": [
    "import torchaudio\r\n",
    "torchaudio.set_audio_backend(\"soundfile\")\r\n",
    "\r\n",
    "from datasets.Sampler import Sampler\r\n",
    "from graphs.models.VGGVox import VGGVox\r\n",
    "\r\n",
    "from agents.trainer import Trainer\r\n",
    "\r\n",
    "\r\n",
    "from utils.config import *\r\n",
    "\r\n",
    "# JSON = 'configs/VGGVox.json'\r\n",
    "# JSON = 'configs/pre_trained/AutoSpeech.json'\r\n",
    "# JSON = 'configs/pre_trained/ResNetSE34L.json'\r\n",
    "JSON = 'configs/pre_trained/Cnn3D.json'\r\n",
    "# JSON = 'configs/Test.json'\r\n",
    "\r\n",
    "config = process_config(JSON)"
   ]
  },
  {
   "cell_type": "code",
   "execution_count": 2,
   "metadata": {},
   "outputs": [
    {
     "name": "stderr",
     "output_type": "stream",
     "text": [
      "[INFO]: Operation will be on ***** GPU-CUDA ***** \n",
      "[INFO]: __Python VERSION:  3.9.5 | packaged by conda-forge | (default, Jun 19 2021, 00:22:33) [MSC v.1916 64 bit (AMD64)]\n",
      "[INFO]: __pyTorch VERSION:  1.9.0\n",
      "[INFO]: __CUDA VERSION\n",
      "[INFO]: __CUDNN VERSION:  7605\n",
      "[INFO]: __Number CUDA Devices:  1\n",
      "[INFO]: __Devices\n",
      "[INFO]: Active CUDA Device: GPU 0\n",
      "[INFO]: Available devices  1\n",
      "[INFO]: Current cuda device  0\n"
     ]
    }
   ],
   "source": [
    "trainer = Trainer(config)"
   ]
  },
  {
   "cell_type": "code",
   "execution_count": 3,
   "metadata": {
    "tags": []
   },
   "outputs": [
    {
     "name": "stderr",
     "output_type": "stream",
     "text": [
      "Epoch-1 Validation | VEER 27.2534% MDC 0.90111 | Efficiency 73.83% : 100%|██████████| 37720/37720 [1:12:36<00:00,  8.66it/s]\n",
      "[INFO]: Validation at epoch-1 completed in 4356.0s (8.7samples/s). VEER 27.2534% MDC 0.90111 \n"
     ]
    }
   ],
   "source": [
    "trainer.run()"
   ]
  },
  {
   "cell_type": "code",
   "execution_count": 4,
   "metadata": {},
   "outputs": [
    {
     "name": "stdout",
     "output_type": "stream",
     "text": [
      "Total Trainable Params: 1939995\n"
     ]
    }
   ],
   "source": [
    "total_params = 0\r\n",
    "for name, parameter in trainer.__model__.named_parameters():\r\n",
    "    if not parameter.requires_grad:\r\n",
    "        continue\r\n",
    "    param = parameter.numel()\r\n",
    "    total_params += param\r\n",
    "print(f\"Total Trainable Params: {total_params}\")"
   ]
  }
 ],
 "metadata": {
  "interpreter": {
   "hash": "f0943c63898b79bfcd286c3c4f0ffd99a54d61a7d3642b2f4654bd0702b8af40"
  },
  "kernelspec": {
   "display_name": "Python 3.9.5 64-bit ('thesis': conda)",
   "name": "python3"
  },
  "language_info": {
   "codemirror_mode": {
    "name": "ipython",
    "version": 3
   },
   "file_extension": ".py",
   "mimetype": "text/x-python",
   "name": "python",
   "nbconvert_exporter": "python",
   "pygments_lexer": "ipython3",
   "version": "3.9.5"
  },
  "metadata": {
   "interpreter": {
    "hash": "8036e4c51114ddf1e2050050a6c672e5d73fadc6671b7cf90c94b7a7c6aa158a"
   }
  },
  "orig_nbformat": 2
 },
 "nbformat": 4,
 "nbformat_minor": 2
}